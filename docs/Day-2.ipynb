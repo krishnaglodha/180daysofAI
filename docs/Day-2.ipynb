{
 "cells": [
  {
   "cell_type": "markdown",
   "metadata": {},
   "source": [
    "# Day 2 - Learning about Tensors \n",
    "\n",
    "It turns out Tensors are legos of AI world. As everything that we do is converted into numbers and lists, Tensors are responsible for managing those. Now this is where it's time to take first Maths lesson. \n",
    "\n",
    "### Math lesson - What are Tensors ? \n",
    "\n",
    "![alt text](https://hadrienj.github.io/assets/images/2.1/scalar-vector-matrix-tensor.png )\n",
    "\n",
    "\n",
    "Tensors are ways to store data in multi-dimensions. , very good representation of it is at [here](https://www.learnpytorch.io/00_pytorch_fundamentals/#introduction-to-tensors)\n",
    "\n",
    "\n",
    "\n",
    "Checkout few videos about Tensors here - \n",
    "\n",
    "- English \n",
    "<iframe width=\"560\" height=\"315\" src=\"https://www.youtube.com/embed/f5liqUk0ZTw?si=yKcgJ0Nxyeo1tMKB\" title=\"YouTube video player\" frameborder=\"0\" allow=\"accelerometer; autoplay; clipboard-write; encrypted-media; gyroscope; picture-in-picture; web-share\" allowfullscreen></iframe>\n",
    "\n",
    "- Hindi\n",
    "\n",
    "<iframe width=\"560\" height=\"315\" src=\"https://www.youtube.com/embed/vVhD2EyS41Y?si=wKqrQlif4olm9PTN\" title=\"YouTube video player\" frameborder=\"0\" allow=\"accelerometer; autoplay; clipboard-write; encrypted-media; gyroscope; picture-in-picture; web-share\" allowfullscreen></iframe>"
   ]
  },
  {
   "cell_type": "code",
   "execution_count": 2,
   "metadata": {},
   "outputs": [
    {
     "name": "stderr",
     "output_type": "stream",
     "text": [
      "/Users/krishnaglodha/anaconda3/envs/aidoc/lib/python3.10/site-packages/torch/nn/modules/transformer.py:20: UserWarning: Failed to initialize NumPy: No module named 'numpy' (Triggered internally at /Users/runner/work/pytorch/pytorch/pytorch/torch/csrc/utils/tensor_numpy.cpp:84.)\n",
      "  device: torch.device = torch.device(torch._C._get_default_device()),  # torch.device('cpu'),\n"
     ]
    }
   ],
   "source": [
    "import torch"
   ]
  },
  {
   "cell_type": "markdown",
   "metadata": {},
   "source": [
    "### Simplest representation of tensors is single number\n"
   ]
  },
  {
   "cell_type": "code",
   "execution_count": 14,
   "metadata": {},
   "outputs": [
    {
     "data": {
      "text/plain": [
       "tensor(7)"
      ]
     },
     "execution_count": 14,
     "metadata": {},
     "output_type": "execute_result"
    }
   ],
   "source": [
    "scalar = torch.tensor(7)\n",
    "scalar"
   ]
  },
  {
   "cell_type": "code",
   "execution_count": 15,
   "metadata": {},
   "outputs": [
    {
     "name": "stdout",
     "output_type": "stream",
     "text": [
      "dimension of scalar is 0\n",
      "shape of scalar is torch.Size([])\n",
      "item in scalar is 7\n"
     ]
    }
   ],
   "source": [
    "# see dimensions \n",
    "print(f\"dimension of scalar is {scalar.ndim}\")\n",
    "# see shape\n",
    "print(f\"shape of scalar is {scalar.shape}\")\n",
    "# see item\n",
    "print(f\"item in scalar is {scalar.item()}\")"
   ]
  },
  {
   "cell_type": "markdown",
   "metadata": {},
   "source": [
    "### Representation of list as tensors "
   ]
  },
  {
   "cell_type": "code",
   "execution_count": 16,
   "metadata": {},
   "outputs": [
    {
     "data": {
      "text/plain": [
       "tensor([1, 2, 4, 5])"
      ]
     },
     "execution_count": 16,
     "metadata": {},
     "output_type": "execute_result"
    }
   ],
   "source": [
    "vector = torch.tensor([1,2,4,5])\n",
    "vector"
   ]
  },
  {
   "cell_type": "code",
   "execution_count": 17,
   "metadata": {},
   "outputs": [
    {
     "name": "stdout",
     "output_type": "stream",
     "text": [
      "dimension of vector is 1\n",
      "shape of vector is torch.Size([4])\n",
      "item in vector is 1\n"
     ]
    }
   ],
   "source": [
    "# see dimensions  - how many lists are there in the tensor\n",
    "print(f\"dimension of vector is {vector.ndim}\")\n",
    "# see shape - shape represents how many elements are there in the tensor list\n",
    "print(f\"shape of vector is {vector.shape}\")\n",
    "# see item -  Item can be only scalar, thus we went at 0th index of vector and got that item\n",
    "print(f\"item in vector is {vector[0].item()}\") "
   ]
  },
  {
   "cell_type": "markdown",
   "metadata": {},
   "source": [
    "### Representation of matrices as tensors \n",
    "\n",
    "As you can see in case of matrix we have a Bigger list, which contains 2 smaller lists, and each of this small list contains equal number of items.\n"
   ]
  },
  {
   "cell_type": "code",
   "execution_count": 20,
   "metadata": {},
   "outputs": [
    {
     "data": {
      "text/plain": [
       "tensor([[ 1,  2,  4,  5],\n",
       "        [ 3,  4,  2,  9],\n",
       "        [ 3,  1,  8, 64]])"
      ]
     },
     "execution_count": 20,
     "metadata": {},
     "output_type": "execute_result"
    }
   ],
   "source": [
    "MATRIX = torch.tensor([[1,2,4,5],[3,4,2,9],[3,1,8,64]])\n",
    "MATRIX"
   ]
  },
  {
   "cell_type": "code",
   "execution_count": 26,
   "metadata": {},
   "outputs": [
    {
     "name": "stdout",
     "output_type": "stream",
     "text": [
      "dimension of MATRIX is 2\n",
      "shape of MATRIX is torch.Size([3, 4])\n",
      "item in MATRIX is 1\n"
     ]
    }
   ],
   "source": [
    "# see dimensions  - how many lists are there in the tensor )\n",
    "print(f\"dimension of MATRIX is {MATRIX.ndim}\")\n",
    "# see shape - shape represents how many elements are there in the tensor list ( here we have 3 lists and each list has 4 elements)\n",
    "print(f\"shape of MATRIX is {MATRIX.shape}\")\n",
    "# see item -  Item can be only scalar, thus we went at 0th index of MATRIX , we got list there [1,2,4,5], thus we went inside that list and looked for 0th element and got that item\n",
    "print(f\"item in MATRIX is {MATRIX[0][0].item()}\") "
   ]
  },
  {
   "cell_type": "markdown",
   "metadata": {},
   "source": [
    "### Representation of multi-dimension matrices as tensors \n",
    "\n",
    "Complex data can be a combination of multiple matrices, which are known as `tensors`\n",
    "\n",
    "As shown below , Tensor is a bigger list, which has 2 big lists , and each of there big lists have 3 smaller lists, and each of this smaller list has 2 values in them. "
   ]
  },
  {
   "cell_type": "code",
   "execution_count": 28,
   "metadata": {},
   "outputs": [],
   "source": [
    "# TENSOR\n",
    "TENSOR = torch.tensor([[[1,4],[3,1],[5,4]],\n",
    "                        [[11,14],[33,13],[56,64]]])"
   ]
  },
  {
   "cell_type": "code",
   "execution_count": 29,
   "metadata": {},
   "outputs": [
    {
     "name": "stdout",
     "output_type": "stream",
     "text": [
      "dimension of TENSOR is 3\n",
      "shape of TENSOR is torch.Size([2, 3, 2])\n",
      "item in TENSOR is 1\n"
     ]
    }
   ],
   "source": [
    "# see dimensions  - how many lists are there in the tensor )\n",
    "print(f\"dimension of TENSOR is {TENSOR.ndim}\")\n",
    "# see shape - shape represents how many elements are there in the tensor list ( here we have 3 lists and each list has 4 elements)\n",
    "print(f\"shape of TENSOR is {TENSOR.shape}\")\n",
    "# see item -  Item can be only scalar, thus we went at 0th index of TENSOR , we got 2 lists each, thus we went inside that list and found 3 more lists, then we went inside that list and looked for 0th element and got that item\n",
    "print(f\"item in TENSOR is {TENSOR[0][0][0].item()}\") "
   ]
  },
  {
   "cell_type": "markdown",
   "metadata": {},
   "source": [
    "### Create tensor based on random numbers\n",
    "\n",
    "In nueral network the way things works is we start by assigning random numbers in `tensor` and then based on input data, these numbers are corrected.\n",
    "\n",
    "The flow looks like \n",
    "\n",
    "`Create random tensor ➡️ check it with data ➡️ correct it based on data ➡️ check it with data ➡️ correct it based on data` "
   ]
  },
  {
   "cell_type": "code",
   "execution_count": 4,
   "metadata": {},
   "outputs": [
    {
     "data": {
      "text/plain": [
       "tensor([[0.6117, 0.8783, 0.0312],\n",
       "        [0.8228, 0.2097, 0.6913]])"
      ]
     },
     "execution_count": 4,
     "metadata": {},
     "output_type": "execute_result"
    }
   ],
   "source": [
    "# Create random TENSOR\n",
    "random_TENSOR = torch.rand(2, 3) # give size of tensor\n",
    "random_TENSOR "
   ]
  },
  {
   "cell_type": "code",
   "execution_count": 5,
   "metadata": {},
   "outputs": [
    {
     "data": {
      "text/plain": [
       "tensor([[[0.0935, 0.5212, 0.1298],\n",
       "         [0.9620, 0.9641, 0.4545]],\n",
       "\n",
       "        [[0.1546, 0.8876, 0.1105],\n",
       "         [0.9638, 0.4953, 0.2858]],\n",
       "\n",
       "        [[0.6359, 0.5181, 0.8909],\n",
       "         [0.8295, 0.2972, 0.3061]]])"
      ]
     },
     "execution_count": 5,
     "metadata": {},
     "output_type": "execute_result"
    }
   ],
   "source": [
    "# Create random TENSOR\n",
    "another_random_TENSOR = torch.rand(3,2, 3) # give size of tensor\n",
    "another_random_TENSOR "
   ]
  },
  {
   "cell_type": "code",
   "execution_count": 7,
   "metadata": {},
   "outputs": [
    {
     "data": {
      "text/plain": [
       "tensor([[0., 0., 0.],\n",
       "        [0., 0., 0.],\n",
       "        [0., 0., 0.]])"
      ]
     },
     "execution_count": 7,
     "metadata": {},
     "output_type": "execute_result"
    }
   ],
   "source": [
    "# Get all values as zero in tensors\n",
    "all_zeros = torch.zeros(3, 3)\n",
    "all_zeros"
   ]
  },
  {
   "cell_type": "code",
   "execution_count": 8,
   "metadata": {},
   "outputs": [
    {
     "data": {
      "text/plain": [
       "tensor([[1., 1., 1.],\n",
       "        [1., 1., 1.],\n",
       "        [1., 1., 1.]])"
      ]
     },
     "execution_count": 8,
     "metadata": {},
     "output_type": "execute_result"
    }
   ],
   "source": [
    "# Get all values as one in tensors\n",
    "all_ones = torch.ones(3, 3)\n",
    "all_ones"
   ]
  },
  {
   "cell_type": "code",
   "execution_count": 10,
   "metadata": {},
   "outputs": [
    {
     "name": "stderr",
     "output_type": "stream",
     "text": [
      "/var/folders/b5/2422fkd93kq4kkfc_d1vpym00000gn/T/ipykernel_94871/818810665.py:3: UserWarning: torch.range is deprecated and will be removed in a future release because its behavior is inconsistent with Python's range builtin. Instead, use torch.arange, which produces values in [start, end).\n",
      "  all_ranges = torch.range(start=23, end=45, step=3)\n"
     ]
    },
    {
     "data": {
      "text/plain": [
       "tensor([23., 26., 29., 32., 35., 38., 41., 44.])"
      ]
     },
     "execution_count": 10,
     "metadata": {},
     "output_type": "execute_result"
    }
   ],
   "source": [
    "# Get all values in a range in tensors\n",
    "all_ranges = torch.range(start=23, end=45, step=3)\n",
    "all_ranges "
   ]
  },
  {
   "cell_type": "code",
   "execution_count": 11,
   "metadata": {},
   "outputs": [
    {
     "data": {
      "text/plain": [
       "tensor([0., 0., 0., 0., 0., 0., 0., 0.])"
      ]
     },
     "execution_count": 11,
     "metadata": {},
     "output_type": "execute_result"
    }
   ],
   "source": [
    "# convert all elements in tensor to zero\n",
    "ranges_converted_to_zero = torch.zeros_like(all_ranges)\n",
    "ranges_converted_to_zero"
   ]
  },
  {
   "cell_type": "code",
   "execution_count": 12,
   "metadata": {},
   "outputs": [
    {
     "data": {
      "text/plain": [
       "tensor([1., 1., 1., 1., 1., 1., 1., 1.])"
      ]
     },
     "execution_count": 12,
     "metadata": {},
     "output_type": "execute_result"
    }
   ],
   "source": [
    "# convert all elements in tensor to one\n",
    "ranges_converted_to_one = torch.ones_like(all_ranges)\n",
    "ranges_converted_to_one"
   ]
  }
 ],
 "metadata": {
  "kernelspec": {
   "display_name": "env",
   "language": "python",
   "name": "python3"
  },
  "language_info": {
   "codemirror_mode": {
    "name": "ipython",
    "version": 3
   },
   "file_extension": ".py",
   "mimetype": "text/x-python",
   "name": "python",
   "nbconvert_exporter": "python",
   "pygments_lexer": "ipython3",
   "version": "3.10.0"
  }
 },
 "nbformat": 4,
 "nbformat_minor": 2
}
