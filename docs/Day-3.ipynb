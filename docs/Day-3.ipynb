{
 "cells": [
  {
   "cell_type": "markdown",
   "metadata": {},
   "source": [
    "# Day 3 - Manipulating Tensors \n",
    "\n",
    "As tensors are the building blocks of AI algorithms it is very crucial to learn about them and their various methods. In this notebook we'll discover manipulations that we can do with matrices \n",
    "\n",
    "<iframe width=\"560\" height=\"315\" src=\"https://www.youtube.com/embed/videoseries?si=uo_fIJx4HpN9rkFr&amp;list=PLi5giWKc4eO1G8oX3ft8ZuLQr4Y4idgng\" title=\"YouTube video player\" frameborder=\"0\" allow=\"accelerometer; autoplay; clipboard-write; encrypted-media; gyroscope; picture-in-picture; web-share\" allowfullscreen></iframe>\n",
    "\n",
    "This has been my go to playlist to understand math behind methods we'll use in this chapter"
   ]
  },
  {
   "cell_type": "code",
   "execution_count": 2,
   "metadata": {},
   "outputs": [
    {
     "name": "stderr",
     "output_type": "stream",
     "text": [
      "/Users/krishnaglodha/anaconda3/envs/aidoc/lib/python3.10/site-packages/torch/nn/modules/transformer.py:20: UserWarning: Failed to initialize NumPy: No module named 'numpy' (Triggered internally at /Users/runner/work/pytorch/pytorch/pytorch/torch/csrc/utils/tensor_numpy.cpp:84.)\n",
      "  device: torch.device = torch.device(torch._C._get_default_device()),  # torch.device('cpu'),\n"
     ]
    }
   ],
   "source": [
    "import torch"
   ]
  },
  {
   "cell_type": "code",
   "execution_count": 13,
   "metadata": {},
   "outputs": [],
   "source": [
    "sample_tensor = torch.Tensor([2,3,4,1])"
   ]
  },
  {
   "cell_type": "code",
   "execution_count": 14,
   "metadata": {},
   "outputs": [
    {
     "data": {
      "text/plain": [
       "tensor([12., 13., 14., 11.])"
      ]
     },
     "execution_count": 14,
     "metadata": {},
     "output_type": "execute_result"
    }
   ],
   "source": [
    "# increase each value with specific number \n",
    "sample_tensor += 10\n",
    "sample_tensor"
   ]
  },
  {
   "cell_type": "code",
   "execution_count": 15,
   "metadata": {},
   "outputs": [
    {
     "data": {
      "text/plain": [
       "tensor([10., 11., 12.,  9.])"
      ]
     },
     "execution_count": 15,
     "metadata": {},
     "output_type": "execute_result"
    }
   ],
   "source": [
    "# reduce each value with specific number \n",
    "sample_tensor -= 2\n",
    "sample_tensor"
   ]
  },
  {
   "cell_type": "code",
   "execution_count": 16,
   "metadata": {},
   "outputs": [
    {
     "data": {
      "text/plain": [
       "tensor([20., 22., 24., 18.])"
      ]
     },
     "execution_count": 16,
     "metadata": {},
     "output_type": "execute_result"
    }
   ],
   "source": [
    "# multiply each value with specific number \n",
    "sample_tensor *= 2\n",
    "sample_tensor"
   ]
  },
  {
   "cell_type": "code",
   "execution_count": 17,
   "metadata": {},
   "outputs": [
    {
     "data": {
      "text/plain": [
       "tensor([10., 11., 12.,  9.])"
      ]
     },
     "execution_count": 17,
     "metadata": {},
     "output_type": "execute_result"
    }
   ],
   "source": [
    "# divide each value with specific number \n",
    "sample_tensor /= 2\n",
    "sample_tensor"
   ]
  },
  {
   "cell_type": "code",
   "execution_count": 18,
   "metadata": {},
   "outputs": [
    {
     "data": {
      "text/plain": [
       "tensor([100., 121., 144.,  81.])"
      ]
     },
     "execution_count": 18,
     "metadata": {},
     "output_type": "execute_result"
    }
   ],
   "source": [
    "# Element-wise matrix multiplication\n",
    "sample_tensor * sample_tensor"
   ]
  },
  {
   "cell_type": "markdown",
   "metadata": {},
   "source": [
    "Matrix multiplication requires the **inner dimension** of matrices to match and the resulting matrix will have shape of **outer dimension**\n",
    "\n",
    "![alt text](https://i.pinimg.com/originals/33/40/6f/33406fb252eda556c301a6ff0ee56a92.png)\n",
    "\n",
    "<iframe width=\"560\" height=\"315\" src=\"https://www.youtube.com/embed/kT4Mp9EdVqs?si=KHCv4WGQ1RsM_gE2\" title=\"YouTube video player\" frameborder=\"0\" allow=\"accelerometer; autoplay; clipboard-write; encrypted-media; gyroscope; picture-in-picture; web-share\" allowfullscreen></iframe>"
   ]
  },
  {
   "cell_type": "code",
   "execution_count": 7,
   "metadata": {},
   "outputs": [
    {
     "name": "stdout",
     "output_type": "stream",
     "text": [
      "tensor([[0.0912, 0.8151, 0.2648],\n",
      "        [0.8988, 0.3201, 0.5228]])\n",
      "tensor([[0.6952, 0.2691, 0.6689, 0.7677],\n",
      "        [0.1456, 0.9015, 0.2138, 0.1805],\n",
      "        [0.5212, 0.1230, 0.4983, 0.7268]])\n"
     ]
    },
    {
     "data": {
      "text/plain": [
       "tensor([[0.3202, 0.7919, 0.3672, 0.4096],\n",
       "        [0.9439, 0.5947, 0.9301, 1.1278]])"
      ]
     },
     "execution_count": 7,
     "metadata": {},
     "output_type": "execute_result"
    }
   ],
   "source": [
    "# Matrix multiplication \n",
    "MATRIX_1 = torch.rand(2, 3)\n",
    "MATRIX_2 = torch.rand(3, 4)\n",
    "print(MATRIX_1)\n",
    "print(MATRIX_2)\n",
    "\n",
    "torch.matmul(MATRIX_1, MATRIX_2)"
   ]
  },
  {
   "cell_type": "markdown",
   "metadata": {},
   "source": [
    "**Transpose** allows us to flip the axes of matrix \n",
    "\n",
    "i.e. (3,2) matrix will be converted in (2,3)\n",
    "\n",
    "<iframe width=\"560\" height=\"315\" src=\"https://www.youtube.com/embed/TZrKrNVhbjI?si=T0wQ052ml1UWtTvv\" title=\"YouTube video player\" frameborder=\"0\" allow=\"accelerometer; autoplay; clipboard-write; encrypted-media; gyroscope; picture-in-picture; web-share\" allowfullscreen></iframe>"
   ]
  },
  {
   "cell_type": "code",
   "execution_count": 9,
   "metadata": {},
   "outputs": [
    {
     "data": {
      "text/plain": [
       "tensor([[0.0912, 0.8151, 0.2648],\n",
       "        [0.8988, 0.3201, 0.5228]])"
      ]
     },
     "execution_count": 9,
     "metadata": {},
     "output_type": "execute_result"
    }
   ],
   "source": [
    "MATRIX_1"
   ]
  },
  {
   "cell_type": "code",
   "execution_count": 10,
   "metadata": {},
   "outputs": [
    {
     "data": {
      "text/plain": [
       "tensor([[0.0912, 0.8988],\n",
       "        [0.8151, 0.3201],\n",
       "        [0.2648, 0.5228]])"
      ]
     },
     "execution_count": 10,
     "metadata": {},
     "output_type": "execute_result"
    }
   ],
   "source": [
    "MATRIX_1.T"
   ]
  },
  {
   "cell_type": "code",
   "execution_count": 13,
   "metadata": {},
   "outputs": [
    {
     "name": "stdout",
     "output_type": "stream",
     "text": [
      "tensor(0.0912)\n",
      "tensor(0)\n",
      "tensor(0.8988)\n",
      "tensor(3)\n",
      "tensor(0.4855)\n",
      "tensor(2.9127)\n"
     ]
    }
   ],
   "source": [
    "# find min in matrix\n",
    "print(MATRIX_1.min())\n",
    "# find position of min in matrix\n",
    "print(MATRIX_1.argmin())\n",
    "# find max in matrix\n",
    "print(MATRIX_1.max())\n",
    "# find position of max in matrix\n",
    "print(MATRIX_1.argmax())\n",
    "# find mean in matrix\n",
    "print(MATRIX_1.mean())\n",
    "# calculate sum of matrix\n",
    "print(MATRIX_1.sum())\n"
   ]
  },
  {
   "cell_type": "markdown",
   "metadata": {},
   "source": [
    "**Reshape** - Reshape allows us to change the shape of matrix.  The only rule is the multiplication of original shape should match with multiplication of reshaped matrix shape.\n",
    "\n",
    "e.g. - Matrix of shape (2,3) can be reshaped into \n",
    "- (3,2)\n",
    "- (1,6)\n",
    "- (6,1)"
   ]
  },
  {
   "cell_type": "code",
   "execution_count": 28,
   "metadata": {},
   "outputs": [
    {
     "data": {
      "text/plain": [
       "(tensor([[3.0000, 0.8151, 0.2648],\n",
       "         [0.8988, 0.3201, 0.5228]]),\n",
       " torch.Size([2, 3]))"
      ]
     },
     "execution_count": 28,
     "metadata": {},
     "output_type": "execute_result"
    }
   ],
   "source": [
    "MATRIX_1,MATRIX_1.shape"
   ]
  },
  {
   "cell_type": "code",
   "execution_count": 22,
   "metadata": {},
   "outputs": [
    {
     "name": "stdout",
     "output_type": "stream",
     "text": [
      "tensor([[0.0912, 0.8151, 0.2648, 0.8988, 0.3201, 0.5228]])\n"
     ]
    }
   ],
   "source": [
    "RESHAPED_MAT = MATRIX_1.reshape(1,6)\n",
    "print(RESHAPED_MAT)"
   ]
  },
  {
   "cell_type": "code",
   "execution_count": 20,
   "metadata": {},
   "outputs": [
    {
     "data": {
      "text/plain": [
       "tensor([[0.0912],\n",
       "        [0.8151],\n",
       "        [0.2648],\n",
       "        [0.8988],\n",
       "        [0.3201],\n",
       "        [0.5228]])"
      ]
     },
     "execution_count": 20,
     "metadata": {},
     "output_type": "execute_result"
    }
   ],
   "source": [
    "MATRIX_1.reshape(6,1)"
   ]
  },
  {
   "cell_type": "code",
   "execution_count": 23,
   "metadata": {},
   "outputs": [],
   "source": [
    "RESHAPED_MAT[0][0] = 3"
   ]
  },
  {
   "cell_type": "code",
   "execution_count": 27,
   "metadata": {},
   "outputs": [
    {
     "data": {
      "text/plain": [
       "tensor([[3.0000, 0.8151, 0.2648, 0.8988, 0.3201, 0.5228]])"
      ]
     },
     "execution_count": 27,
     "metadata": {},
     "output_type": "execute_result"
    }
   ],
   "source": [
    "RESHAPED_MAT"
   ]
  },
  {
   "cell_type": "code",
   "execution_count": 26,
   "metadata": {},
   "outputs": [
    {
     "data": {
      "text/plain": [
       "tensor([[3.0000, 0.8151, 0.2648],\n",
       "        [0.8988, 0.3201, 0.5228]])"
      ]
     },
     "execution_count": 26,
     "metadata": {},
     "output_type": "execute_result"
    }
   ],
   "source": [
    "MATRIX_1"
   ]
  },
  {
   "cell_type": "markdown",
   "metadata": {},
   "source": [
    "*Stacking* Matrices allows us to put matrix on top of each other ( vertical stack ) or by each other's side ( horizontal stack ).\n",
    "Rule for stacking is that all matrices must be of same dimension"
   ]
  },
  {
   "cell_type": "code",
   "execution_count": 43,
   "metadata": {},
   "outputs": [
    {
     "data": {
      "text/plain": [
       "(torch.Size([3, 2]), torch.Size([3, 2]))"
      ]
     },
     "execution_count": 43,
     "metadata": {},
     "output_type": "execute_result"
    }
   ],
   "source": [
    "zero_mat = torch.zeros(3,2)\n",
    "one_mat = torch.ones(3, 2) \n",
    "zero_mat.shape, one_mat.shape"
   ]
  },
  {
   "cell_type": "code",
   "execution_count": 46,
   "metadata": {},
   "outputs": [
    {
     "data": {
      "text/plain": [
       "(tensor([[0., 0.],\n",
       "         [0., 0.],\n",
       "         [0., 0.],\n",
       "         [1., 1.],\n",
       "         [1., 1.],\n",
       "         [1., 1.]]),\n",
       " torch.Size([6, 2]))"
      ]
     },
     "execution_count": 46,
     "metadata": {},
     "output_type": "execute_result"
    }
   ],
   "source": [
    "vstacked = torch.vstack([zero_mat, one_mat])\n",
    "\n",
    "vstacked,vstacked.shape"
   ]
  },
  {
   "cell_type": "code",
   "execution_count": 48,
   "metadata": {},
   "outputs": [
    {
     "data": {
      "text/plain": [
       "(tensor([[0., 0., 1., 1.],\n",
       "         [0., 0., 1., 1.],\n",
       "         [0., 0., 1., 1.]]),\n",
       " torch.Size([3, 4]))"
      ]
     },
     "execution_count": 48,
     "metadata": {},
     "output_type": "execute_result"
    }
   ],
   "source": [
    "hstacked = torch.hstack([zero_mat, one_mat])\n",
    "hstacked,hstacked.shape"
   ]
  },
  {
   "cell_type": "markdown",
   "metadata": {},
   "source": [
    "**squeeze** allows us to remove all single dimensions from matrix"
   ]
  },
  {
   "cell_type": "code",
   "execution_count": 60,
   "metadata": {},
   "outputs": [
    {
     "data": {
      "text/plain": [
       "tensor([[[[0.],\n",
       "          [0.]],\n",
       "\n",
       "         [[0.],\n",
       "          [0.]],\n",
       "\n",
       "         [[0.],\n",
       "          [0.]]]])"
      ]
     },
     "execution_count": 60,
     "metadata": {},
     "output_type": "execute_result"
    }
   ],
   "source": [
    "tens = torch.zeros(1,3,2,1)\n",
    "tens"
   ]
  },
  {
   "cell_type": "code",
   "execution_count": 61,
   "metadata": {},
   "outputs": [
    {
     "data": {
      "text/plain": [
       "tensor([[0., 0.],\n",
       "        [0., 0.],\n",
       "        [0., 0.]])"
      ]
     },
     "execution_count": 61,
     "metadata": {},
     "output_type": "execute_result"
    }
   ],
   "source": [
    "no_one= torch.squeeze(tens)\n",
    "no_one"
   ]
  },
  {
   "cell_type": "markdown",
   "metadata": {},
   "source": [
    "**unsqueeze** allows us to add  single dimension at specific dim in matrix"
   ]
  },
  {
   "cell_type": "code",
   "execution_count": 62,
   "metadata": {},
   "outputs": [
    {
     "data": {
      "text/plain": [
       "(tensor([[0., 0.],\n",
       "         [0., 0.],\n",
       "         [0., 0.]]),\n",
       " torch.Size([3, 2]))"
      ]
     },
     "execution_count": 62,
     "metadata": {},
     "output_type": "execute_result"
    }
   ],
   "source": [
    "no_one, no_one.shape"
   ]
  },
  {
   "cell_type": "code",
   "execution_count": 65,
   "metadata": {},
   "outputs": [
    {
     "data": {
      "text/plain": [
       "(tensor([[[0., 0.]],\n",
       " \n",
       "         [[0., 0.]],\n",
       " \n",
       "         [[0., 0.]]]),\n",
       " torch.Size([3, 1, 2]))"
      ]
     },
     "execution_count": 65,
     "metadata": {},
     "output_type": "execute_result"
    }
   ],
   "source": [
    "adding_one = torch.unsqueeze(no_one, dim=0)\n",
    "adding_one,adding_one.shape"
   ]
  },
  {
   "cell_type": "code",
   "execution_count": 66,
   "metadata": {},
   "outputs": [
    {
     "data": {
      "text/plain": [
       "(tensor([[[0., 0.],\n",
       "          [0., 0.],\n",
       "          [0., 0.]]]),\n",
       " torch.Size([1, 3, 2]))"
      ]
     },
     "execution_count": 66,
     "metadata": {},
     "output_type": "execute_result"
    }
   ],
   "source": [
    "adding_one = torch.unsqueeze(no_one, dim=1)\n",
    "adding_one,adding_one.shape"
   ]
  },
  {
   "cell_type": "code",
   "execution_count": 67,
   "metadata": {},
   "outputs": [
    {
     "data": {
      "text/plain": [
       "(tensor([[[0.],\n",
       "          [0.]],\n",
       " \n",
       "         [[0.],\n",
       "          [0.]],\n",
       " \n",
       "         [[0.],\n",
       "          [0.]]]),\n",
       " torch.Size([3, 2, 1]))"
      ]
     },
     "execution_count": 67,
     "metadata": {},
     "output_type": "execute_result"
    }
   ],
   "source": [
    "adding_one = torch.unsqueeze(no_one, dim=2)\n",
    "adding_one,adding_one.shape"
   ]
  },
  {
   "cell_type": "markdown",
   "metadata": {},
   "source": [
    "**permute** allows us to rearrange the dimensions of matrix based on the index number of dimesion. \n",
    "\n",
    "e.g. If you have a matrix of shape (2,3,4,1) and you want new matrix to be of shape (4,1,3,2) then you'll be putting permute for index numbers as (2,3,1,0) _remember that these are not the dimension numbers but the index numbers of original dimensions_"
   ]
  },
  {
   "cell_type": "code",
   "execution_count": 71,
   "metadata": {},
   "outputs": [
    {
     "data": {
      "text/plain": [
       "(tensor([[[[0.4067],\n",
       "           [0.7352],\n",
       "           [0.3255],\n",
       "           [0.2045]],\n",
       " \n",
       "          [[0.9771],\n",
       "           [0.6874],\n",
       "           [0.9577],\n",
       "           [0.5992]],\n",
       " \n",
       "          [[0.3105],\n",
       "           [0.2828],\n",
       "           [0.9761],\n",
       "           [0.0919]]],\n",
       " \n",
       " \n",
       "         [[[0.4163],\n",
       "           [0.2669],\n",
       "           [0.4095],\n",
       "           [0.1668]],\n",
       " \n",
       "          [[0.0218],\n",
       "           [0.2487],\n",
       "           [0.1014],\n",
       "           [0.8136]],\n",
       " \n",
       "          [[0.8378],\n",
       "           [0.0290],\n",
       "           [0.1106],\n",
       "           [0.5918]]]]),\n",
       " torch.Size([2, 3, 4, 1]))"
      ]
     },
     "execution_count": 71,
     "metadata": {},
     "output_type": "execute_result"
    }
   ],
   "source": [
    "original_tensor = torch.rand(2,3,4,1)\n",
    "original_tensor,original_tensor.shape"
   ]
  },
  {
   "cell_type": "code",
   "execution_count": 73,
   "metadata": {},
   "outputs": [
    {
     "data": {
      "text/plain": [
       "(tensor([[[[0.4067, 0.9771, 0.3105]],\n",
       " \n",
       "          [[0.4163, 0.0218, 0.8378]]],\n",
       " \n",
       " \n",
       "         [[[0.7352, 0.6874, 0.2828]],\n",
       " \n",
       "          [[0.2669, 0.2487, 0.0290]]],\n",
       " \n",
       " \n",
       "         [[[0.3255, 0.9577, 0.9761]],\n",
       " \n",
       "          [[0.4095, 0.1014, 0.1106]]],\n",
       " \n",
       " \n",
       "         [[[0.2045, 0.5992, 0.0919]],\n",
       " \n",
       "          [[0.1668, 0.8136, 0.5918]]]]),\n",
       " torch.Size([4, 2, 1, 3]))"
      ]
     },
     "execution_count": 73,
     "metadata": {},
     "output_type": "execute_result"
    }
   ],
   "source": [
    "permuted_tensor = torch.permute(original_tensor,(2,0,3,1))\n",
    "permuted_tensor,permuted_tensor.shape"
   ]
  }
 ],
 "metadata": {
  "kernelspec": {
   "display_name": "env",
   "language": "python",
   "name": "python3"
  },
  "language_info": {
   "codemirror_mode": {
    "name": "ipython",
    "version": 3
   },
   "file_extension": ".py",
   "mimetype": "text/x-python",
   "name": "python",
   "nbconvert_exporter": "python",
   "pygments_lexer": "ipython3",
   "version": "3.10.0"
  }
 },
 "nbformat": 4,
 "nbformat_minor": 2
}
